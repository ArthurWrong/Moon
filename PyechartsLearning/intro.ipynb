{
 "metadata": {
  "language_info": {
   "codemirror_mode": {
    "name": "ipython",
    "version": 3
   },
   "file_extension": ".py",
   "mimetype": "text/x-python",
   "name": "python",
   "nbconvert_exporter": "python",
   "pygments_lexer": "ipython3",
   "version": "3.8.3"
  },
  "orig_nbformat": 2,
  "kernelspec": {
   "name": "python3",
   "display_name": "Python 3",
   "language": "python"
  }
 },
 "nbformat": 4,
 "nbformat_minor": 2,
 "cells": [
  {
   "source": [
    "from pyecharts.charts import Bar\n",
    "\n",
    "bar = Bar()\n",
    "bar.add_xaxis([\"衬衫\", \"羊毛衫\", \"雪纺衫\", \"裤子\", \"高跟鞋\", \"袜子\"])\n",
    "bar.add_yaxis(\"商家A\", [5, 20, 36, 10, 75, 90])\n",
    "# render 会生成本地 HTML 文件，默认会在当前目录生成 render.html 文件\n",
    "# 也可以传入路径参数，如 bar.render(\"mycharts.html\")\n",
    "bar.render()"
   ],
   "cell_type": "code",
   "metadata": {},
   "execution_count": 1,
   "outputs": [
    {
     "output_type": "execute_result",
     "data": {
      "text/plain": [
       "'d:\\\\Code\\\\Moon\\\\PyechartsLearning\\\\render.html'"
      ]
     },
     "metadata": {},
     "execution_count": 1
    }
   ]
  },
  {
   "cell_type": "code",
   "execution_count": 2,
   "metadata": {},
   "outputs": [
    {
     "output_type": "execute_result",
     "data": {
      "text/plain": [
       "<pyecharts.render.display.HTML at 0x1a3df11b400>"
      ],
      "text/html": "\n<script>\n    require.config({\n        paths: {\n            'echarts':'https://assets.pyecharts.org/assets/echarts.min'\n        }\n    });\n</script>\n\n        <div id=\"e94f921e7254450aacbd6fbef4feeb8f\" style=\"width:900px; height:500px;\"></div>\n\n<script>\n        require(['echarts'], function(echarts) {\n                var chart_e94f921e7254450aacbd6fbef4feeb8f = echarts.init(\n                    document.getElementById('e94f921e7254450aacbd6fbef4feeb8f'), 'white', {renderer: 'canvas'});\n                var option_e94f921e7254450aacbd6fbef4feeb8f = {\n    \"animation\": true,\n    \"animationThreshold\": 2000,\n    \"animationDuration\": 1000,\n    \"animationEasing\": \"cubicOut\",\n    \"animationDelay\": 0,\n    \"animationDurationUpdate\": 300,\n    \"animationEasingUpdate\": \"cubicOut\",\n    \"animationDelayUpdate\": 0,\n    \"color\": [\n        \"#c23531\",\n        \"#2f4554\",\n        \"#61a0a8\",\n        \"#d48265\",\n        \"#749f83\",\n        \"#ca8622\",\n        \"#bda29a\",\n        \"#6e7074\",\n        \"#546570\",\n        \"#c4ccd3\",\n        \"#f05b72\",\n        \"#ef5b9c\",\n        \"#f47920\",\n        \"#905a3d\",\n        \"#fab27b\",\n        \"#2a5caa\",\n        \"#444693\",\n        \"#726930\",\n        \"#b2d235\",\n        \"#6d8346\",\n        \"#ac6767\",\n        \"#1d953f\",\n        \"#6950a1\",\n        \"#918597\"\n    ],\n    \"series\": [\n        {\n            \"type\": \"bar\",\n            \"name\": \"\\u5546\\u5bb6A\",\n            \"legendHoverLink\": true,\n            \"data\": [\n                5,\n                20,\n                36,\n                10,\n                75,\n                90\n            ],\n            \"showBackground\": false,\n            \"barMinHeight\": 0,\n            \"barCategoryGap\": \"20%\",\n            \"barGap\": \"30%\",\n            \"large\": false,\n            \"largeThreshold\": 400,\n            \"seriesLayoutBy\": \"column\",\n            \"datasetIndex\": 0,\n            \"clip\": true,\n            \"zlevel\": 0,\n            \"z\": 2,\n            \"label\": {\n                \"show\": true,\n                \"position\": \"top\",\n                \"margin\": 8\n            }\n        }\n    ],\n    \"legend\": [\n        {\n            \"data\": [\n                \"\\u5546\\u5bb6A\"\n            ],\n            \"selected\": {\n                \"\\u5546\\u5bb6A\": true\n            },\n            \"show\": true,\n            \"padding\": 5,\n            \"itemGap\": 10,\n            \"itemWidth\": 25,\n            \"itemHeight\": 14\n        }\n    ],\n    \"tooltip\": {\n        \"show\": true,\n        \"trigger\": \"item\",\n        \"triggerOn\": \"mousemove|click\",\n        \"axisPointer\": {\n            \"type\": \"line\"\n        },\n        \"showContent\": true,\n        \"alwaysShowContent\": false,\n        \"showDelay\": 0,\n        \"hideDelay\": 100,\n        \"textStyle\": {\n            \"fontSize\": 14\n        },\n        \"borderWidth\": 0,\n        \"padding\": 5\n    },\n    \"xAxis\": [\n        {\n            \"show\": true,\n            \"scale\": false,\n            \"nameLocation\": \"end\",\n            \"nameGap\": 15,\n            \"gridIndex\": 0,\n            \"inverse\": false,\n            \"offset\": 0,\n            \"splitNumber\": 5,\n            \"minInterval\": 0,\n            \"splitLine\": {\n                \"show\": false,\n                \"lineStyle\": {\n                    \"show\": true,\n                    \"width\": 1,\n                    \"opacity\": 1,\n                    \"curveness\": 0,\n                    \"type\": \"solid\"\n                }\n            },\n            \"data\": [\n                \"\\u886c\\u886b\",\n                \"\\u7f8a\\u6bdb\\u886b\",\n                \"\\u96ea\\u7eba\\u886b\",\n                \"\\u88e4\\u5b50\",\n                \"\\u9ad8\\u8ddf\\u978b\",\n                \"\\u889c\\u5b50\"\n            ]\n        }\n    ],\n    \"yAxis\": [\n        {\n            \"show\": true,\n            \"scale\": false,\n            \"nameLocation\": \"end\",\n            \"nameGap\": 15,\n            \"gridIndex\": 0,\n            \"inverse\": false,\n            \"offset\": 0,\n            \"splitNumber\": 5,\n            \"minInterval\": 0,\n            \"splitLine\": {\n                \"show\": false,\n                \"lineStyle\": {\n                    \"show\": true,\n                    \"width\": 1,\n                    \"opacity\": 1,\n                    \"curveness\": 0,\n                    \"type\": \"solid\"\n                }\n            }\n        }\n    ],\n    \"title\": [\n        {\n            \"text\": \"\\u4e3b\\u6807\\u9898\",\n            \"subtext\": \"\\u526f\\u6807\\u9898\",\n            \"padding\": 5,\n            \"itemGap\": 10\n        }\n    ]\n};\n                chart_e94f921e7254450aacbd6fbef4feeb8f.setOption(option_e94f921e7254450aacbd6fbef4feeb8f);\n        });\n    </script>\n"
     },
     "metadata": {},
     "execution_count": 2
    }
   ],
   "source": [
    "from pyecharts.charts import Bar\n",
    "from pyecharts import options as opts\n",
    "\n",
    "# V1 版本开始支持链式调用\n",
    "# 你所看到的格式其实是 `black` 格式化以后的效果\n",
    "# 可以执行 `pip install black` 下载使用\n",
    "bar = (\n",
    "    Bar()\n",
    "    .add_xaxis([\"衬衫\", \"羊毛衫\", \"雪纺衫\", \"裤子\", \"高跟鞋\", \"袜子\"])\n",
    "    .add_yaxis(\"商家A\", [5, 20, 36, 10, 75, 90])\n",
    "    .set_global_opts(title_opts=opts.TitleOpts(title=\"主标题\", subtitle=\"副标题\"))\n",
    "    # 或者直接使用字典参数\n",
    "    # .set_global_opts(title_opts={\"text\": \"主标题\", \"subtext\": \"副标题\"})\n",
    ")\n",
    "bar.render_notebook()\n",
    "\n",
    "# 不习惯链式调用的开发者依旧可以单独调用方法\n",
    "# bar = Bar()\n",
    "# bar.add_xaxis([\"衬衫\", \"羊毛衫\", \"雪纺衫\", \"裤子\", \"高跟鞋\", \"袜子\"])\n",
    "# bar.add_yaxis(\"商家A\", [5, 20, 36, 10, 75, 90])\n",
    "# bar.set_global_opts(title_opts=opts.TitleOpts(title=\"主标题\", subtitle=\"副标题\"))\n",
    "# bar.render()"
   ]
  },
  {
   "cell_type": "code",
   "execution_count": 3,
   "metadata": {},
   "outputs": [
    {
     "output_type": "error",
     "ename": "WebDriverException",
     "evalue": "Message: 'chromedriver' executable needs to be in PATH. Please see https://sites.google.com/a/chromium.org/chromedriver/home\n",
     "traceback": [
      "\u001b[1;31m---------------------------------------------------------------------------\u001b[0m",
      "\u001b[1;31mFileNotFoundError\u001b[0m                         Traceback (most recent call last)",
      "\u001b[1;32mD:\\softwares\\Anaconda3\\lib\\site-packages\\selenium\\webdriver\\common\\service.py\u001b[0m in \u001b[0;36mstart\u001b[1;34m(self)\u001b[0m\n\u001b[0;32m     71\u001b[0m             \u001b[0mcmd\u001b[0m\u001b[1;33m.\u001b[0m\u001b[0mextend\u001b[0m\u001b[1;33m(\u001b[0m\u001b[0mself\u001b[0m\u001b[1;33m.\u001b[0m\u001b[0mcommand_line_args\u001b[0m\u001b[1;33m(\u001b[0m\u001b[1;33m)\u001b[0m\u001b[1;33m)\u001b[0m\u001b[1;33m\u001b[0m\u001b[1;33m\u001b[0m\u001b[0m\n\u001b[1;32m---> 72\u001b[1;33m             self.process = subprocess.Popen(cmd, env=self.env,\n\u001b[0m\u001b[0;32m     73\u001b[0m                                             \u001b[0mclose_fds\u001b[0m\u001b[1;33m=\u001b[0m\u001b[0mplatform\u001b[0m\u001b[1;33m.\u001b[0m\u001b[0msystem\u001b[0m\u001b[1;33m(\u001b[0m\u001b[1;33m)\u001b[0m \u001b[1;33m!=\u001b[0m \u001b[1;34m'Windows'\u001b[0m\u001b[1;33m,\u001b[0m\u001b[1;33m\u001b[0m\u001b[1;33m\u001b[0m\u001b[0m\n",
      "\u001b[1;32mD:\\softwares\\Anaconda3\\lib\\subprocess.py\u001b[0m in \u001b[0;36m__init__\u001b[1;34m(self, args, bufsize, executable, stdin, stdout, stderr, preexec_fn, close_fds, shell, cwd, env, universal_newlines, startupinfo, creationflags, restore_signals, start_new_session, pass_fds, encoding, errors, text)\u001b[0m\n\u001b[0;32m    853\u001b[0m \u001b[1;33m\u001b[0m\u001b[0m\n\u001b[1;32m--> 854\u001b[1;33m             self._execute_child(args, executable, preexec_fn, close_fds,\n\u001b[0m\u001b[0;32m    855\u001b[0m                                 \u001b[0mpass_fds\u001b[0m\u001b[1;33m,\u001b[0m \u001b[0mcwd\u001b[0m\u001b[1;33m,\u001b[0m \u001b[0menv\u001b[0m\u001b[1;33m,\u001b[0m\u001b[1;33m\u001b[0m\u001b[1;33m\u001b[0m\u001b[0m\n",
      "\u001b[1;32mD:\\softwares\\Anaconda3\\lib\\subprocess.py\u001b[0m in \u001b[0;36m_execute_child\u001b[1;34m(self, args, executable, preexec_fn, close_fds, pass_fds, cwd, env, startupinfo, creationflags, shell, p2cread, p2cwrite, c2pread, c2pwrite, errread, errwrite, unused_restore_signals, unused_start_new_session)\u001b[0m\n\u001b[0;32m   1306\u001b[0m             \u001b[1;32mtry\u001b[0m\u001b[1;33m:\u001b[0m\u001b[1;33m\u001b[0m\u001b[1;33m\u001b[0m\u001b[0m\n\u001b[1;32m-> 1307\u001b[1;33m                 hp, ht, pid, tid = _winapi.CreateProcess(executable, args,\n\u001b[0m\u001b[0;32m   1308\u001b[0m                                          \u001b[1;31m# no special security\u001b[0m\u001b[1;33m\u001b[0m\u001b[1;33m\u001b[0m\u001b[1;33m\u001b[0m\u001b[0m\n",
      "\u001b[1;31mFileNotFoundError\u001b[0m: [WinError 2] The system cannot find the file specified",
      "\nDuring handling of the above exception, another exception occurred:\n",
      "\u001b[1;31mWebDriverException\u001b[0m                        Traceback (most recent call last)",
      "\u001b[1;32m<ipython-input-3-ec2704a32be5>\u001b[0m in \u001b[0;36m<module>\u001b[1;34m\u001b[0m\n\u001b[0;32m     10\u001b[0m     \u001b[1;33m.\u001b[0m\u001b[0madd_yaxis\u001b[0m\u001b[1;33m(\u001b[0m\u001b[1;34m\"商家A\"\u001b[0m\u001b[1;33m,\u001b[0m \u001b[1;33m[\u001b[0m\u001b[1;36m5\u001b[0m\u001b[1;33m,\u001b[0m \u001b[1;36m20\u001b[0m\u001b[1;33m,\u001b[0m \u001b[1;36m36\u001b[0m\u001b[1;33m,\u001b[0m \u001b[1;36m10\u001b[0m\u001b[1;33m,\u001b[0m \u001b[1;36m75\u001b[0m\u001b[1;33m,\u001b[0m \u001b[1;36m90\u001b[0m\u001b[1;33m]\u001b[0m\u001b[1;33m)\u001b[0m\u001b[1;33m\u001b[0m\u001b[1;33m\u001b[0m\u001b[0m\n\u001b[0;32m     11\u001b[0m )\n\u001b[1;32m---> 12\u001b[1;33m \u001b[0mmake_snapshot\u001b[0m\u001b[1;33m(\u001b[0m\u001b[0msnapshot\u001b[0m\u001b[1;33m,\u001b[0m \u001b[0mbar\u001b[0m\u001b[1;33m.\u001b[0m\u001b[0mrender\u001b[0m\u001b[1;33m(\u001b[0m\u001b[1;33m)\u001b[0m\u001b[1;33m,\u001b[0m \u001b[1;34m\"bar.png\"\u001b[0m\u001b[1;33m)\u001b[0m\u001b[1;33m\u001b[0m\u001b[1;33m\u001b[0m\u001b[0m\n\u001b[0m",
      "\u001b[1;32mD:\\softwares\\Anaconda3\\lib\\site-packages\\pyecharts\\render\\snapshot.py\u001b[0m in \u001b[0;36mmake_snapshot\u001b[1;34m(engine, file_name, output_name, delay, pixel_ratio, is_remove_html, **kwargs)\u001b[0m\n\u001b[0;32m     30\u001b[0m     \u001b[0mfile_type\u001b[0m \u001b[1;33m=\u001b[0m \u001b[0moutput_name\u001b[0m\u001b[1;33m.\u001b[0m\u001b[0msplit\u001b[0m\u001b[1;33m(\u001b[0m\u001b[1;34m\".\"\u001b[0m\u001b[1;33m)\u001b[0m\u001b[1;33m[\u001b[0m\u001b[1;33m-\u001b[0m\u001b[1;36m1\u001b[0m\u001b[1;33m]\u001b[0m\u001b[1;33m\u001b[0m\u001b[1;33m\u001b[0m\u001b[0m\n\u001b[0;32m     31\u001b[0m \u001b[1;33m\u001b[0m\u001b[0m\n\u001b[1;32m---> 32\u001b[1;33m     content = engine.make_snapshot(\n\u001b[0m\u001b[0;32m     33\u001b[0m         \u001b[0mhtml_path\u001b[0m\u001b[1;33m=\u001b[0m\u001b[0mfile_name\u001b[0m\u001b[1;33m,\u001b[0m\u001b[1;33m\u001b[0m\u001b[1;33m\u001b[0m\u001b[0m\n\u001b[0;32m     34\u001b[0m         \u001b[0mfile_type\u001b[0m\u001b[1;33m=\u001b[0m\u001b[0mfile_type\u001b[0m\u001b[1;33m,\u001b[0m\u001b[1;33m\u001b[0m\u001b[1;33m\u001b[0m\u001b[0m\n",
      "\u001b[1;32mD:\\softwares\\Anaconda3\\lib\\site-packages\\snapshot_selenium\\snapshot.py\u001b[0m in \u001b[0;36mmake_snapshot\u001b[1;34m(html_path, file_type, pixel_ratio, delay, browser, driver)\u001b[0m\n\u001b[0;32m     33\u001b[0m     \u001b[1;32mif\u001b[0m \u001b[1;32mnot\u001b[0m \u001b[0mdriver\u001b[0m\u001b[1;33m:\u001b[0m\u001b[1;33m\u001b[0m\u001b[1;33m\u001b[0m\u001b[0m\n\u001b[0;32m     34\u001b[0m         \u001b[1;32mif\u001b[0m \u001b[0mbrowser\u001b[0m \u001b[1;33m==\u001b[0m \u001b[1;34m\"Chrome\"\u001b[0m\u001b[1;33m:\u001b[0m\u001b[1;33m\u001b[0m\u001b[1;33m\u001b[0m\u001b[0m\n\u001b[1;32m---> 35\u001b[1;33m             \u001b[0mdriver\u001b[0m \u001b[1;33m=\u001b[0m \u001b[0mget_chrome_driver\u001b[0m\u001b[1;33m(\u001b[0m\u001b[1;33m)\u001b[0m\u001b[1;33m\u001b[0m\u001b[1;33m\u001b[0m\u001b[0m\n\u001b[0m\u001b[0;32m     36\u001b[0m         \u001b[1;32melif\u001b[0m \u001b[0mbrowser\u001b[0m \u001b[1;33m==\u001b[0m \u001b[1;34m\"Safari\"\u001b[0m\u001b[1;33m:\u001b[0m\u001b[1;33m\u001b[0m\u001b[1;33m\u001b[0m\u001b[0m\n\u001b[0;32m     37\u001b[0m             \u001b[0mdriver\u001b[0m \u001b[1;33m=\u001b[0m \u001b[0mget_safari_driver\u001b[0m\u001b[1;33m(\u001b[0m\u001b[1;33m)\u001b[0m\u001b[1;33m\u001b[0m\u001b[1;33m\u001b[0m\u001b[0m\n",
      "\u001b[1;32mD:\\softwares\\Anaconda3\\lib\\site-packages\\snapshot_selenium\\snapshot.py\u001b[0m in \u001b[0;36mget_chrome_driver\u001b[1;34m()\u001b[0m\n\u001b[0;32m     56\u001b[0m     \u001b[0moptions\u001b[0m \u001b[1;33m=\u001b[0m \u001b[0mwebdriver\u001b[0m\u001b[1;33m.\u001b[0m\u001b[0mChromeOptions\u001b[0m\u001b[1;33m(\u001b[0m\u001b[1;33m)\u001b[0m\u001b[1;33m\u001b[0m\u001b[1;33m\u001b[0m\u001b[0m\n\u001b[0;32m     57\u001b[0m     \u001b[0moptions\u001b[0m\u001b[1;33m.\u001b[0m\u001b[0madd_argument\u001b[0m\u001b[1;33m(\u001b[0m\u001b[1;34m\"headless\"\u001b[0m\u001b[1;33m)\u001b[0m\u001b[1;33m\u001b[0m\u001b[1;33m\u001b[0m\u001b[0m\n\u001b[1;32m---> 58\u001b[1;33m     \u001b[1;32mreturn\u001b[0m \u001b[0mwebdriver\u001b[0m\u001b[1;33m.\u001b[0m\u001b[0mChrome\u001b[0m\u001b[1;33m(\u001b[0m\u001b[0moptions\u001b[0m\u001b[1;33m=\u001b[0m\u001b[0moptions\u001b[0m\u001b[1;33m)\u001b[0m\u001b[1;33m\u001b[0m\u001b[1;33m\u001b[0m\u001b[0m\n\u001b[0m\u001b[0;32m     59\u001b[0m \u001b[1;33m\u001b[0m\u001b[0m\n\u001b[0;32m     60\u001b[0m \u001b[1;33m\u001b[0m\u001b[0m\n",
      "\u001b[1;32mD:\\softwares\\Anaconda3\\lib\\site-packages\\selenium\\webdriver\\chrome\\webdriver.py\u001b[0m in \u001b[0;36m__init__\u001b[1;34m(self, executable_path, port, options, service_args, desired_capabilities, service_log_path, chrome_options, keep_alive)\u001b[0m\n\u001b[0;32m     71\u001b[0m             \u001b[0mservice_args\u001b[0m\u001b[1;33m=\u001b[0m\u001b[0mservice_args\u001b[0m\u001b[1;33m,\u001b[0m\u001b[1;33m\u001b[0m\u001b[1;33m\u001b[0m\u001b[0m\n\u001b[0;32m     72\u001b[0m             log_path=service_log_path)\n\u001b[1;32m---> 73\u001b[1;33m         \u001b[0mself\u001b[0m\u001b[1;33m.\u001b[0m\u001b[0mservice\u001b[0m\u001b[1;33m.\u001b[0m\u001b[0mstart\u001b[0m\u001b[1;33m(\u001b[0m\u001b[1;33m)\u001b[0m\u001b[1;33m\u001b[0m\u001b[1;33m\u001b[0m\u001b[0m\n\u001b[0m\u001b[0;32m     74\u001b[0m \u001b[1;33m\u001b[0m\u001b[0m\n\u001b[0;32m     75\u001b[0m         \u001b[1;32mtry\u001b[0m\u001b[1;33m:\u001b[0m\u001b[1;33m\u001b[0m\u001b[1;33m\u001b[0m\u001b[0m\n",
      "\u001b[1;32mD:\\softwares\\Anaconda3\\lib\\site-packages\\selenium\\webdriver\\common\\service.py\u001b[0m in \u001b[0;36mstart\u001b[1;34m(self)\u001b[0m\n\u001b[0;32m     79\u001b[0m         \u001b[1;32mexcept\u001b[0m \u001b[0mOSError\u001b[0m \u001b[1;32mas\u001b[0m \u001b[0merr\u001b[0m\u001b[1;33m:\u001b[0m\u001b[1;33m\u001b[0m\u001b[1;33m\u001b[0m\u001b[0m\n\u001b[0;32m     80\u001b[0m             \u001b[1;32mif\u001b[0m \u001b[0merr\u001b[0m\u001b[1;33m.\u001b[0m\u001b[0merrno\u001b[0m \u001b[1;33m==\u001b[0m \u001b[0merrno\u001b[0m\u001b[1;33m.\u001b[0m\u001b[0mENOENT\u001b[0m\u001b[1;33m:\u001b[0m\u001b[1;33m\u001b[0m\u001b[1;33m\u001b[0m\u001b[0m\n\u001b[1;32m---> 81\u001b[1;33m                 raise WebDriverException(\n\u001b[0m\u001b[0;32m     82\u001b[0m                     \"'%s' executable needs to be in PATH. %s\" % (\n\u001b[0;32m     83\u001b[0m                         os.path.basename(self.path), self.start_error_message)\n",
      "\u001b[1;31mWebDriverException\u001b[0m: Message: 'chromedriver' executable needs to be in PATH. Please see https://sites.google.com/a/chromium.org/chromedriver/home\n"
     ]
    }
   ],
   "source": [
    "from pyecharts.charts import Bar\n",
    "from pyecharts.render import make_snapshot\n",
    "\n",
    "# 使用 snapshot-selenium 渲染图片\n",
    "from snapshot_selenium import snapshot\n",
    "\n",
    "bar = (\n",
    "    Bar()\n",
    "    .add_xaxis([\"衬衫\", \"羊毛衫\", \"雪纺衫\", \"裤子\", \"高跟鞋\", \"袜子\"])\n",
    "    .add_yaxis(\"商家A\", [5, 20, 36, 10, 75, 90])\n",
    ")\n",
    "make_snapshot(snapshot, bar.render(), \"bar.png\")"
   ]
  },
  {
   "cell_type": "code",
   "execution_count": 45,
   "metadata": {},
   "outputs": [],
   "source": [
    "import pandas as pd\n",
    "\n",
    "\n",
    "df = pd.read_excel('D:\\Downloads\\shanghai_ents_cnt.xlsx')\n",
    "region_name = df['region_name'].dropna().tolist()\n",
    "cnt = df['cnt'].tolist()"
   ]
  },
  {
   "cell_type": "code",
   "execution_count": 58,
   "metadata": {},
   "outputs": [
    {
     "output_type": "execute_result",
     "data": {
      "text/plain": [
       "<pyecharts.render.display.HTML at 0x23b80b99940>"
      ],
      "text/html": "\n<script>\n    require.config({\n        paths: {\n            'echarts':'https://assets.pyecharts.org/assets/echarts.min', '上海':'https://assets.pyecharts.org/assets/maps/shanghai'\n        }\n    });\n</script>\n\n        <div id=\"eb28a29005024b668dd552c646e951fc\" style=\"width:900px; height:500px;\"></div>\n\n<script>\n        require(['echarts', '上海'], function(echarts) {\n                var chart_eb28a29005024b668dd552c646e951fc = echarts.init(\n                    document.getElementById('eb28a29005024b668dd552c646e951fc'), 'white', {renderer: 'canvas'});\n                var option_eb28a29005024b668dd552c646e951fc = {\n    \"animation\": true,\n    \"animationThreshold\": 2000,\n    \"animationDuration\": 1000,\n    \"animationEasing\": \"cubicOut\",\n    \"animationDelay\": 0,\n    \"animationDurationUpdate\": 300,\n    \"animationEasingUpdate\": \"cubicOut\",\n    \"animationDelayUpdate\": 0,\n    \"color\": [\n        \"#c23531\",\n        \"#2f4554\",\n        \"#61a0a8\",\n        \"#d48265\",\n        \"#749f83\",\n        \"#ca8622\",\n        \"#bda29a\",\n        \"#6e7074\",\n        \"#546570\",\n        \"#c4ccd3\",\n        \"#f05b72\",\n        \"#ef5b9c\",\n        \"#f47920\",\n        \"#905a3d\",\n        \"#fab27b\",\n        \"#2a5caa\",\n        \"#444693\",\n        \"#726930\",\n        \"#b2d235\",\n        \"#6d8346\",\n        \"#ac6767\",\n        \"#1d953f\",\n        \"#6950a1\",\n        \"#918597\"\n    ],\n    \"series\": [\n        {\n            \"type\": \"heatmap\",\n            \"name\": \"stat\",\n            \"coordinateSystem\": \"geo\",\n            \"data\": [\n                {\n                    \"name\": \"\\u5949\\u8d24\\u533a\",\n                    \"value\": [\n                        121.47,\n                        30.92,\n                        680834\n                    ]\n                },\n                {\n                    \"name\": \"\\u957f\\u5b81\\u533a\",\n                    \"value\": [\n                        121.42,\n                        31.22,\n                        115940\n                    ]\n                },\n                {\n                    \"name\": \"\\u9759\\u5b89\\u533a\",\n                    \"value\": [\n                        121.45,\n                        31.23,\n                        151046\n                    ]\n                },\n                {\n                    \"name\": \"\\u8679\\u53e3\\u533a\",\n                    \"value\": [\n                        121.5,\n                        31.27,\n                        133566\n                    ]\n                },\n                {\n                    \"name\": \"\\u666e\\u9640\\u533a\",\n                    \"value\": [\n                        122.3,\n                        29.95,\n                        124155\n                    ]\n                },\n                {\n                    \"name\": \"\\u5d07\\u660e\\u533a\",\n                    \"value\": [\n                        116.43,\n                        39.88,\n                        450917\n                    ]\n                },\n                {\n                    \"name\": \"\\u6768\\u6d66\\u533a\",\n                    \"value\": [\n                        121.52,\n                        31.27,\n                        164107\n                    ]\n                },\n                {\n                    \"name\": \"\\u91d1\\u5c71\\u533a\",\n                    \"value\": [\n                        121.33,\n                        30.75,\n                        524974\n                    ]\n                },\n                {\n                    \"name\": \"\\u9ec4\\u6d66\\u533a\",\n                    \"value\": [\n                        121.48,\n                        31.23,\n                        119000\n                    ]\n                },\n                {\n                    \"name\": \"\\u9752\\u6d66\\u533a\",\n                    \"value\": [\n                        121.12,\n                        31.15,\n                        386268\n                    ]\n                },\n                {\n                    \"name\": \"\\u5b9d\\u5c71\\u533a\",\n                    \"value\": [\n                        121.48,\n                        31.4,\n                        388938\n                    ]\n                },\n                {\n                    \"name\": \"\\u6d66\\u4e1c\\u65b0\\u533a\",\n                    \"value\": [\n                        121.53,\n                        31.22,\n                        769169\n                    ]\n                },\n                {\n                    \"name\": \"\\u677e\\u6c5f\\u533a\",\n                    \"value\": [\n                        121.22,\n                        31.03,\n                        73528\n                    ]\n                },\n                {\n                    \"name\": \"\\u95f5\\u884c\\u533a\",\n                    \"value\": [\n                        121.38,\n                        31.12,\n                        435334\n                    ]\n                },\n                {\n                    \"name\": \"\\u5609\\u5b9a\\u533a\",\n                    \"value\": [\n                        121.27,\n                        31.38,\n                        180243\n                    ]\n                },\n                {\n                    \"name\": \"\\u5f90\\u6c47\\u533a\",\n                    \"value\": [\n                        121.43,\n                        31.18,\n                        401464\n                    ]\n                }\n            ],\n            \"pointSize\": 20,\n            \"blurSize\": 20\n        }\n    ],\n    \"legend\": [\n        {\n            \"data\": [\n                \"stat\"\n            ],\n            \"selected\": {\n                \"stat\": true\n            },\n            \"show\": true,\n            \"padding\": 5,\n            \"itemGap\": 10,\n            \"itemWidth\": 25,\n            \"itemHeight\": 14\n        }\n    ],\n    \"tooltip\": {\n        \"show\": true,\n        \"trigger\": \"item\",\n        \"triggerOn\": \"mousemove|click\",\n        \"axisPointer\": {\n            \"type\": \"line\"\n        },\n        \"showContent\": true,\n        \"alwaysShowContent\": false,\n        \"showDelay\": 0,\n        \"hideDelay\": 100,\n        \"formatter\": function (params) {        return params.name + ' : ' + params.value[2];    },\n        \"textStyle\": {\n            \"fontSize\": 14\n        },\n        \"borderWidth\": 0,\n        \"padding\": 5\n    },\n    \"title\": [\n        {\n            \"padding\": 5,\n            \"itemGap\": 10\n        }\n    ],\n    \"visualMap\": {\n        \"show\": true,\n        \"type\": \"continuous\",\n        \"min\": 0,\n        \"max\": 400,\n        \"inRange\": {\n            \"color\": [\n                \"#50a3ba\",\n                \"#eac763\",\n                \"#d94e5d\"\n            ]\n        },\n        \"calculable\": true,\n        \"inverse\": false,\n        \"splitNumber\": 5,\n        \"orient\": \"vertical\",\n        \"showLabel\": true,\n        \"itemWidth\": 20,\n        \"itemHeight\": 140,\n        \"borderWidth\": 0\n    },\n    \"geo\": {\n        \"map\": \"\\u4e0a\\u6d77\",\n        \"roam\": true,\n        \"aspectScale\": 0.75,\n        \"nameProperty\": \"name\",\n        \"selectedMode\": false,\n        \"emphasis\": {}\n    }\n};\n                chart_eb28a29005024b668dd552c646e951fc.setOption(option_eb28a29005024b668dd552c646e951fc);\n        });\n    </script>\n"
     },
     "metadata": {},
     "execution_count": 58
    }
   ],
   "source": [
    "from pyecharts import options as opts\n",
    "from pyecharts.charts import Geo\n",
    "from pyecharts.globals import ChartType\n",
    "\n",
    "\n",
    "c = (\n",
    "    Geo()\n",
    "    .add_schema(maptype=\"上海\")\n",
    "    .add(\n",
    "        'stat',\n",
    "        [list(z) for z in zip(region_name, cnt)],\n",
    "        type_=ChartType.HEATMAP,\n",
    "    )\n",
    "    # .set_series_opts(label_opts=opts.LabelOpts(is_show=False))\n",
    "    .set_global_opts(\n",
    "        visualmap_opts=opts.VisualMapOpts(max_ = 400),    #设置legend显示的最大值\n",
    "        # title_opts=opts.TitleOpts(title=\"Geo-HeatMap\"),   #左上角标题\n",
    ")\n",
    "    .render_notebook()\n",
    ")\n",
    "c"
   ]
  },
  {
   "cell_type": "code",
   "execution_count": 23,
   "metadata": {},
   "outputs": [],
   "source": [
    "from pyecharts.faker import Faker\n",
    "from pyecharts import options as opts\n",
    "from pyecharts.charts import Geo\n",
    "from pyecharts.globals import ChartType, SymbolType\n",
    "import pandas as pd\n",
    "import json\n",
    "\n",
    "# 用于测试的例子，部分取自 Faker ，也就是 from pyecharts.faker import Faker\n",
    "provinces = [\"广东\", \"北京\", \"上海\", \"辽宁\", \"湖南\", \"四川\", \"西藏\"]\n",
    "guangdong_city = [\"汕头市\", \"汕尾市\", \"揭阳市\", \"阳江市\", \"肇庆市\", \"广州市\", \"惠州市\"]\n",
    "country = [\"China\", \"Canada\", \"Brazil\", \"Russia\", \"United States\", \"Africa\", \"Germany\"]\n",
    "value = [300, 100, 2000, 800, 10000, 400, 5000]"
   ]
  },
  {
   "cell_type": "code",
   "execution_count": 25,
   "metadata": {},
   "outputs": [],
   "source": [
    "aa = [list(z) for z in zip(provinces, value)]\n",
    "c = (\n",
    "    Geo()\n",
    "    .add_schema(maptype=\"china\")\n",
    "    .add(\n",
    "        \"省热点图\",    #图题\n",
    "        aa,\n",
    "        type_=ChartType.HEATMAP,   #地图类型\n",
    "    )\n",
    "    .set_series_opts(label_opts=opts.LabelOpts(is_show=False))  #设置是否显示标签\n",
    "    .set_global_opts(\n",
    "            visualmap_opts=opts.VisualMapOpts(max_ = 400),    #设置legend显示的最大值\n",
    "            title_opts=opts.TitleOpts(title=\"Geo-HeatMap\"),   #左上角标题\n",
    "    )\n",
    ")"
   ]
  },
  {
   "cell_type": "code",
   "execution_count": 27,
   "metadata": {},
   "outputs": [
    {
     "output_type": "execute_result",
     "data": {
      "text/plain": [
       "<pyecharts.render.display.HTML at 0x23bffba8c40>"
      ],
      "text/html": "\n<script>\n    require.config({\n        paths: {\n            'echarts':'https://assets.pyecharts.org/assets/echarts.min', 'china':'https://assets.pyecharts.org/assets/maps/china'\n        }\n    });\n</script>\n\n        <div id=\"233e1576377b4ec3a4e65ceac670ee11\" style=\"width:900px; height:500px;\"></div>\n\n<script>\n        require(['echarts', 'china'], function(echarts) {\n                var chart_233e1576377b4ec3a4e65ceac670ee11 = echarts.init(\n                    document.getElementById('233e1576377b4ec3a4e65ceac670ee11'), 'white', {renderer: 'canvas'});\n                var option_233e1576377b4ec3a4e65ceac670ee11 = {\n    \"animation\": true,\n    \"animationThreshold\": 2000,\n    \"animationDuration\": 1000,\n    \"animationEasing\": \"cubicOut\",\n    \"animationDelay\": 0,\n    \"animationDurationUpdate\": 300,\n    \"animationEasingUpdate\": \"cubicOut\",\n    \"animationDelayUpdate\": 0,\n    \"color\": [\n        \"#c23531\",\n        \"#2f4554\",\n        \"#61a0a8\",\n        \"#d48265\",\n        \"#749f83\",\n        \"#ca8622\",\n        \"#bda29a\",\n        \"#6e7074\",\n        \"#546570\",\n        \"#c4ccd3\",\n        \"#f05b72\",\n        \"#ef5b9c\",\n        \"#f47920\",\n        \"#905a3d\",\n        \"#fab27b\",\n        \"#2a5caa\",\n        \"#444693\",\n        \"#726930\",\n        \"#b2d235\",\n        \"#6d8346\",\n        \"#ac6767\",\n        \"#1d953f\",\n        \"#6950a1\",\n        \"#918597\"\n    ],\n    \"series\": [\n        {\n            \"type\": \"heatmap\",\n            \"name\": \"\\u7701\\u70ed\\u70b9\\u56fe\",\n            \"coordinateSystem\": \"geo\",\n            \"data\": [\n                {\n                    \"name\": \"\\u5e7f\\u4e1c\",\n                    \"value\": [\n                        113.26653,\n                        23.132191,\n                        300\n                    ]\n                },\n                {\n                    \"name\": \"\\u5317\\u4eac\",\n                    \"value\": [\n                        116.407526,\n                        39.90403,\n                        100\n                    ]\n                },\n                {\n                    \"name\": \"\\u4e0a\\u6d77\",\n                    \"value\": [\n                        121.473701,\n                        31.230416,\n                        2000\n                    ]\n                },\n                {\n                    \"name\": \"\\u8fbd\\u5b81\",\n                    \"value\": [\n                        123.42944,\n                        41.835441,\n                        800\n                    ]\n                },\n                {\n                    \"name\": \"\\u6e56\\u5357\",\n                    \"value\": [\n                        112.98381,\n                        28.112444,\n                        10000\n                    ]\n                },\n                {\n                    \"name\": \"\\u56db\\u5ddd\",\n                    \"value\": [\n                        104.075931,\n                        30.651651,\n                        400\n                    ]\n                },\n                {\n                    \"name\": \"\\u897f\\u85cf\",\n                    \"value\": [\n                        91.117212,\n                        29.646922,\n                        5000\n                    ]\n                }\n            ],\n            \"pointSize\": 20,\n            \"blurSize\": 20,\n            \"label\": {\n                \"show\": false,\n                \"position\": \"top\",\n                \"margin\": 8\n            },\n            \"rippleEffect\": {\n                \"show\": true,\n                \"brushType\": \"stroke\",\n                \"scale\": 2.5,\n                \"period\": 4\n            }\n        }\n    ],\n    \"legend\": [\n        {\n            \"data\": [\n                \"\\u7701\\u70ed\\u70b9\\u56fe\"\n            ],\n            \"selected\": {\n                \"\\u7701\\u70ed\\u70b9\\u56fe\": true\n            },\n            \"show\": true,\n            \"padding\": 5,\n            \"itemGap\": 10,\n            \"itemWidth\": 25,\n            \"itemHeight\": 14\n        }\n    ],\n    \"tooltip\": {\n        \"show\": true,\n        \"trigger\": \"item\",\n        \"triggerOn\": \"mousemove|click\",\n        \"axisPointer\": {\n            \"type\": \"line\"\n        },\n        \"showContent\": true,\n        \"alwaysShowContent\": false,\n        \"showDelay\": 0,\n        \"hideDelay\": 100,\n        \"formatter\": function (params) {        return params.name + ' : ' + params.value[2];    },\n        \"textStyle\": {\n            \"fontSize\": 14\n        },\n        \"borderWidth\": 0,\n        \"padding\": 5\n    },\n    \"title\": [\n        {\n            \"text\": \"Geo-HeatMap\",\n            \"padding\": 5,\n            \"itemGap\": 10\n        }\n    ],\n    \"visualMap\": {\n        \"show\": true,\n        \"type\": \"continuous\",\n        \"min\": 0,\n        \"max\": 400,\n        \"inRange\": {\n            \"color\": [\n                \"#50a3ba\",\n                \"#eac763\",\n                \"#d94e5d\"\n            ]\n        },\n        \"calculable\": true,\n        \"inverse\": false,\n        \"splitNumber\": 5,\n        \"orient\": \"vertical\",\n        \"showLabel\": true,\n        \"itemWidth\": 20,\n        \"itemHeight\": 140,\n        \"borderWidth\": 0\n    },\n    \"geo\": {\n        \"map\": \"china\",\n        \"roam\": true,\n        \"aspectScale\": 0.75,\n        \"nameProperty\": \"name\",\n        \"selectedMode\": false,\n        \"emphasis\": {}\n    }\n};\n                chart_233e1576377b4ec3a4e65ceac670ee11.setOption(option_233e1576377b4ec3a4e65ceac670ee11);\n        });\n    </script>\n"
     },
     "metadata": {},
     "execution_count": 27
    }
   ],
   "source": [
    "c.render_notebook()"
   ]
  },
  {
   "cell_type": "code",
   "execution_count": 44,
   "metadata": {},
   "outputs": [
    {
     "output_type": "stream",
     "name": "stdout",
     "text": [
      "('奉贤区', 680834)\n('长宁区', 115940)\n('静安区', 151046)\n('虹口区', 133566)\n('普陀区', 124155)\n('崇明区', 450917)\n('杨浦区', 164107)\n('金山区', 524974)\n('黄浦区', 119000)\n('青浦区', 386268)\n('宝山区', 388938)\n('浦东新区', 769169)\n(nan, 73528)\n('松江区', 435334)\n(nan, 180243)\n('闵行区', 401464)\n('嘉定区', 474934)\n('徐汇区', 119524)\n"
     ]
    }
   ],
   "source": [
    "for z in zip(region_name, cnt):\n",
    "    print(z)"
   ]
  },
  {
   "source": [
    "# 分数分布图"
   ],
   "cell_type": "markdown",
   "metadata": {}
  },
  {
   "cell_type": "code",
   "execution_count": 20,
   "metadata": {},
   "outputs": [],
   "source": [
    "import pandas as pd\n",
    "\n",
    "province_qxf_level_histogram = pd.read_excel(r'D:\\Downloads\\province_qxf_level_histogram.xlsx').dropna()\n"
   ]
  },
  {
   "cell_type": "code",
   "execution_count": 32,
   "metadata": {
    "tags": []
   },
   "outputs": [],
   "source": [
    "data = list()\n",
    "for index, row in province_qxf_level_histogram.iterrows():\n",
    "   data.append([row[0], row[1], row[2]])"
   ]
  },
  {
   "cell_type": "code",
   "execution_count": 42,
   "metadata": {},
   "outputs": [],
   "source": [
    "r1_province_qxf_level_histogram = province_qxf_level_histogram[province_qxf_level_histogram['qxf_level']=='R1']"
   ]
  },
  {
   "cell_type": "code",
   "execution_count": 53,
   "metadata": {},
   "outputs": [
    {
     "output_type": "execute_result",
     "data": {
      "text/plain": [
       "'d:\\\\Code\\\\Moon\\\\PyechartsLearning\\\\render.html'"
      ]
     },
     "metadata": {},
     "execution_count": 53
    }
   ],
   "source": [
    "Bar().add_xaxis(\n",
    "    r1_province_qxf_level_histogram['province_name'].tolist()\n",
    ").add_yaxis(\n",
    "    'R1', r1_province_qxf_level_histogram['cnt'].tolist()\n",
    ").add_yaxis(\n",
    "    'R2', province_qxf_level_histogram[province_qxf_level_histogram['qxf_level']=='R2']['cnt'].tolist()\n",
    ").set_global_opts(\n",
    "    datazoom_opts=opts.DataZoomOpts()\n",
    ").render()"
   ]
  },
  {
   "source": [
    "# 3D图"
   ],
   "cell_type": "markdown",
   "metadata": {}
  },
  {
   "cell_type": "code",
   "execution_count": 62,
   "metadata": {},
   "outputs": [],
   "source": [
    "from pyecharts import options as opts\n",
    "from pyecharts.charts import Bar3D"
   ]
  },
  {
   "cell_type": "code",
   "execution_count": 63,
   "metadata": {},
   "outputs": [],
   "source": [
    "data = list()\n",
    "for index, row in province_qxf_level_histogram.iterrows():\n",
    "    data.append([row[0], row[1], row[2]])"
   ]
  },
  {
   "cell_type": "code",
   "execution_count": 67,
   "metadata": {},
   "outputs": [
    {
     "output_type": "execute_result",
     "data": {
      "text/plain": [
       "'d:\\\\Code\\\\Moon\\\\PyechartsLearning\\\\render.html'"
      ]
     },
     "metadata": {},
     "execution_count": 67
    }
   ],
   "source": [
    "Bar3D().add(\n",
    "    \"\",\n",
    "   data,\n",
    "    # xaxis3d_opts=opts.Axis3DOpts(Faker.clock, type_=\"category\"),\n",
    "    # yaxis3d_opts=opts.Axis3DOpts(Faker.week_en, type_=\"category\"),\n",
    "    # zaxis3d_opts=opts.Axis3DOpts(type_=\"value\"),\n",
    ").set_global_opts(\n",
    "    visualmap_opts=opts.VisualMapOpts(max_=20),\n",
    "    title_opts=opts.TitleOpts(title=\"分数分布3D图\"),\n",
    ").render()"
   ]
  },
  {
   "cell_type": "code",
   "execution_count": null,
   "metadata": {},
   "outputs": [],
   "source": []
  }
 ]
}